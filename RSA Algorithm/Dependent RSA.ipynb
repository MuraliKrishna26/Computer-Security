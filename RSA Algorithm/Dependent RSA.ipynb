{
 "cells": [
  {
   "cell_type": "code",
   "execution_count": 10,
   "metadata": {},
   "outputs": [],
   "source": [
    "from gmpy2 import *\n",
    "import gmpy2\n",
    "import random"
   ]
  },
  {
   "cell_type": "code",
   "execution_count": 18,
   "metadata": {},
   "outputs": [],
   "source": [
    "def encrypt(num,p,q):\n",
    "    \n",
    "    n = p * q\n",
    "    phi_n = (p-1)*(q-1)\n",
    "    \n",
    "    e = gmpy2.next_prime(p)\n",
    "        \n",
    "    print()\n",
    "    print(\"Public Key is (e,n) is (\",e,\",\",n,\")\")\n",
    "\n",
    "    d = gmpy2.invert(e,phi_n)\n",
    "    \n",
    "    print(\"Private Key is (d,n) is (\",d,\",\",n,\")\")\n",
    "    \n",
    "    k = random.randint(0,n-1)\n",
    "    \n",
    "    print(\"Value of k is \",k)\n",
    "    \n",
    "    C_one = ((k+1)**e) % n\n",
    "    C_two = num*(k**e % n )\n",
    "    \n",
    "    print(\"Obtained Ciphertext C1 is : \",C_one)\n",
    "    print(\"Obtained Ciphertext C2 is : \",C_two)\n",
    "    "
   ]
  },
  {
   "cell_type": "code",
   "execution_count": 19,
   "metadata": {},
   "outputs": [
    {
     "name": "stdout",
     "output_type": "stream",
     "text": [
      "*******Encryption*******\n",
      "\n",
      "Enter the number that is need to be encrypted i.e n : 89\n",
      "Enter a prime number p : 13\n",
      "Enter a prime number q : 31\n",
      "\n",
      "Public Key is (e,n) is ( 17 , 403 )\n",
      "Private Key is (d,n) is ( 233 , 403 )\n",
      "Value of k is  193\n",
      "Obtained Ciphertext C1 is :  64\n",
      "Obtained Ciphertext C2 is :  9879\n"
     ]
    }
   ],
   "source": [
    "print(\"*******Encryption*******\")\n",
    "print()\n",
    "num = int(input(\"Enter the number that is need to be encrypted i.e n : \"))\n",
    "p = int(input(\"Enter a prime number p : \"))\n",
    "q = int(input(\"Enter a prime number q : \"))\n",
    "\n",
    "encrypt(num,p,q)"
   ]
  },
  {
   "cell_type": "code",
   "execution_count": null,
   "metadata": {},
   "outputs": [],
   "source": []
  },
  {
   "cell_type": "code",
   "execution_count": 20,
   "metadata": {},
   "outputs": [],
   "source": [
    "def decrypt(C_one,C_two,e,d,n):\n",
    "    \n",
    "    k = ( C_one**d % n ) - 1 \n",
    "    m = C_two / ( k**e % n )\n",
    "    \n",
    "    print(\"Message after decrpyting : \",m)\n",
    "    "
   ]
  },
  {
   "cell_type": "code",
   "execution_count": 21,
   "metadata": {},
   "outputs": [
    {
     "name": "stdout",
     "output_type": "stream",
     "text": [
      "Message after decrpyting :  89.0\n"
     ]
    }
   ],
   "source": [
    "decrypt(64,9879,17,233,403)"
   ]
  },
  {
   "cell_type": "code",
   "execution_count": null,
   "metadata": {},
   "outputs": [],
   "source": []
  },
  {
   "cell_type": "code",
   "execution_count": null,
   "metadata": {},
   "outputs": [],
   "source": []
  },
  {
   "cell_type": "code",
   "execution_count": null,
   "metadata": {},
   "outputs": [],
   "source": []
  },
  {
   "cell_type": "code",
   "execution_count": null,
   "metadata": {},
   "outputs": [],
   "source": []
  },
  {
   "cell_type": "code",
   "execution_count": null,
   "metadata": {},
   "outputs": [],
   "source": []
  },
  {
   "cell_type": "code",
   "execution_count": null,
   "metadata": {},
   "outputs": [],
   "source": []
  },
  {
   "cell_type": "code",
   "execution_count": null,
   "metadata": {},
   "outputs": [],
   "source": []
  },
  {
   "cell_type": "code",
   "execution_count": null,
   "metadata": {},
   "outputs": [],
   "source": []
  },
  {
   "cell_type": "code",
   "execution_count": null,
   "metadata": {},
   "outputs": [],
   "source": []
  },
  {
   "cell_type": "code",
   "execution_count": 3,
   "metadata": {},
   "outputs": [],
   "source": []
  },
  {
   "cell_type": "code",
   "execution_count": null,
   "metadata": {},
   "outputs": [],
   "source": []
  },
  {
   "cell_type": "code",
   "execution_count": null,
   "metadata": {},
   "outputs": [],
   "source": []
  },
  {
   "cell_type": "code",
   "execution_count": null,
   "metadata": {},
   "outputs": [],
   "source": []
  },
  {
   "cell_type": "code",
   "execution_count": null,
   "metadata": {},
   "outputs": [],
   "source": []
  },
  {
   "cell_type": "code",
   "execution_count": null,
   "metadata": {},
   "outputs": [],
   "source": []
  },
  {
   "cell_type": "code",
   "execution_count": null,
   "metadata": {},
   "outputs": [],
   "source": []
  }
 ],
 "metadata": {
  "kernelspec": {
   "display_name": "Python 3",
   "language": "python",
   "name": "python3"
  },
  "language_info": {
   "codemirror_mode": {
    "name": "ipython",
    "version": 3
   },
   "file_extension": ".py",
   "mimetype": "text/x-python",
   "name": "python",
   "nbconvert_exporter": "python",
   "pygments_lexer": "ipython3",
   "version": "3.7.3"
  }
 },
 "nbformat": 4,
 "nbformat_minor": 2
}
