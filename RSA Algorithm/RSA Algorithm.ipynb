{
 "cells": [
  {
   "cell_type": "code",
   "execution_count": 1,
   "metadata": {},
   "outputs": [],
   "source": [
    "from gmpy2 import *\n",
    "import gmpy2"
   ]
  },
  {
   "cell_type": "code",
   "execution_count": 2,
   "metadata": {},
   "outputs": [],
   "source": [
    "#input - encrypt number i.e m, two very large prime number \n",
    "#        two large number p and q"
   ]
  },
  {
   "cell_type": "markdown",
   "metadata": {},
   "source": [
    "### Encryption"
   ]
  },
  {
   "cell_type": "code",
   "execution_count": 3,
   "metadata": {},
   "outputs": [],
   "source": [
    "def encrypt(num,p,q):\n",
    "    \n",
    "    n = p * q\n",
    "    \n",
    "    phi_n = (p-1)*(q-1)\n",
    "    \n",
    "#     e = -1\n",
    "#     # largest e is selected  \n",
    "#     for i in range(phi_n-1,1,-1):\n",
    "#         if gcd(phi_n,i) == 1:\n",
    "#             e = i\n",
    "\n",
    "    e = gmpy2.next_prime(p)\n",
    "\n",
    "            \n",
    "            \n",
    "    print()\n",
    "    print(\"Public Key is (e,n) is (\",e,\",\",n,\")\")\n",
    "    \n",
    "#     d = -1\n",
    "#     count = 0\n",
    "#     for i in range(2,phi_n):\n",
    "#         if (e*i)%phi_n == 1:\n",
    "#             d = i\n",
    "#             count += 1;\n",
    "\n",
    "    d = gmpy2.invert(e,phi_n)\n",
    "    \n",
    "\n",
    "    print(\"Private Key is (d,n) is (\",d,\",\",n,\")\")  \n",
    "    \n",
    "    C = (num**e)%n\n",
    "    print(\"Encrypted Message is : \", C)\n",
    "    \n",
    "    "
   ]
  },
  {
   "cell_type": "code",
   "execution_count": 5,
   "metadata": {
    "scrolled": false
   },
   "outputs": [
    {
     "name": "stdout",
     "output_type": "stream",
     "text": [
      "*******Encryption*******\n",
      "\n",
      "Enter the number that is need to be encrypted i.e n : 123\n",
      "Enter a prime number p : 13\n",
      "Enter a prime number q : 31\n",
      "\n",
      "Public Key is (e,n) is ( 17 , 403 )\n",
      "Private Key is (d,n) is ( 233 , 403 )\n",
      "Encrypted Message is :  340\n"
     ]
    }
   ],
   "source": [
    "print(\"*******Encryption*******\")\n",
    "print()\n",
    "num = mpz(input(\"Enter the number that is need to be encrypted i.e n : \"))\n",
    "p = mpz(input(\"Enter a prime number p : \"))\n",
    "q = mpz(input(\"Enter a prime number q : \"))\n",
    "\n",
    "encrypt(num,p,q)"
   ]
  },
  {
   "cell_type": "markdown",
   "metadata": {},
   "source": [
    "### Decryption"
   ]
  },
  {
   "cell_type": "code",
   "execution_count": 8,
   "metadata": {},
   "outputs": [],
   "source": [
    "def decrpyt(C,d,n):\n",
    "    m = (C**d) % n ;\n",
    "    print(\"Message after decrpyting is  \",m)"
   ]
  },
  {
   "cell_type": "code",
   "execution_count": 10,
   "metadata": {},
   "outputs": [
    {
     "name": "stdout",
     "output_type": "stream",
     "text": [
      "*******Decryption*******\n",
      "\n",
      "Enter encrypted message : 340\n",
      "Enter a private Key d : 233\n",
      "Enter a number n : 403\n",
      "Message after decrpyting is   123\n"
     ]
    }
   ],
   "source": [
    "print(\"*******Decryption*******\")\n",
    "print()\n",
    "num = mpz(input(\"Enter encrypted message : \"))\n",
    "p = mpz(input(\"Enter a private Key d : \"))\n",
    "q = mpz(input(\"Enter a number n : \"))\n",
    "\n",
    "decrpyt(num,p,q)"
   ]
  },
  {
   "cell_type": "code",
   "execution_count": null,
   "metadata": {},
   "outputs": [],
   "source": []
  },
  {
   "cell_type": "code",
   "execution_count": null,
   "metadata": {},
   "outputs": [],
   "source": []
  },
  {
   "cell_type": "code",
   "execution_count": null,
   "metadata": {},
   "outputs": [],
   "source": []
  },
  {
   "cell_type": "code",
   "execution_count": null,
   "metadata": {},
   "outputs": [],
   "source": []
  },
  {
   "cell_type": "code",
   "execution_count": null,
   "metadata": {},
   "outputs": [],
   "source": []
  },
  {
   "cell_type": "code",
   "execution_count": null,
   "metadata": {},
   "outputs": [],
   "source": []
  },
  {
   "cell_type": "code",
   "execution_count": null,
   "metadata": {},
   "outputs": [],
   "source": []
  },
  {
   "cell_type": "code",
   "execution_count": null,
   "metadata": {},
   "outputs": [],
   "source": []
  },
  {
   "cell_type": "code",
   "execution_count": null,
   "metadata": {},
   "outputs": [],
   "source": []
  }
 ],
 "metadata": {
  "kernelspec": {
   "display_name": "Python 3",
   "language": "python",
   "name": "python3"
  },
  "language_info": {
   "codemirror_mode": {
    "name": "ipython",
    "version": 3
   },
   "file_extension": ".py",
   "mimetype": "text/x-python",
   "name": "python",
   "nbconvert_exporter": "python",
   "pygments_lexer": "ipython3",
   "version": "3.7.3"
  }
 },
 "nbformat": 4,
 "nbformat_minor": 2
}
